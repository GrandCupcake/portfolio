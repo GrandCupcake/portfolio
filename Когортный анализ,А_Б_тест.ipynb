{
 "cells": [
  {
   "cell_type": "code",
   "execution_count": 3,
   "metadata": {},
   "outputs": [],
   "source": [
    "import pandas as pd\n",
    "import numpy as np\n",
    "from operator import attrgetter"
   ]
  },
  {
   "cell_type": "code",
   "execution_count": 4,
   "metadata": {},
   "outputs": [],
   "source": [
    "#Задание № 1"
   ]
  },
  {
   "cell_type": "code",
   "execution_count": 5,
   "metadata": {},
   "outputs": [],
   "source": [
    "file_path = \"/mnt/HC_Volume_18315164/home-jupyter/jupyter-aleksandr-ladejsch-6e962/shared/problem1-reg_data.csv\""
   ]
  },
  {
   "cell_type": "code",
   "execution_count": 6,
   "metadata": {},
   "outputs": [],
   "source": [
    "file_path2 = \"/mnt/HC_Volume_18315164/home-jupyter/jupyter-aleksandr-ladejsch-6e962/shared/problem1-auth_data.csv\""
   ]
  },
  {
   "cell_type": "code",
   "execution_count": 7,
   "metadata": {},
   "outputs": [],
   "source": [
    "reg_data=pd.read_csv(file_path,sep=';')\n",
    "auth_data=pd.read_csv(file_path2,sep=';')"
   ]
  },
  {
   "cell_type": "code",
   "execution_count": 51,
   "metadata": {},
   "outputs": [
    {
     "data": {
      "text/html": [
       "<div>\n",
       "<style scoped>\n",
       "    .dataframe tbody tr th:only-of-type {\n",
       "        vertical-align: middle;\n",
       "    }\n",
       "\n",
       "    .dataframe tbody tr th {\n",
       "        vertical-align: top;\n",
       "    }\n",
       "\n",
       "    .dataframe thead th {\n",
       "        text-align: right;\n",
       "    }\n",
       "</style>\n",
       "<table border=\"1\" class=\"dataframe\">\n",
       "  <thead>\n",
       "    <tr style=\"text-align: right;\">\n",
       "      <th></th>\n",
       "      <th>reg_ts</th>\n",
       "      <th>uid</th>\n",
       "    </tr>\n",
       "  </thead>\n",
       "  <tbody>\n",
       "    <tr>\n",
       "      <th>0</th>\n",
       "      <td>911382223</td>\n",
       "      <td>1</td>\n",
       "    </tr>\n",
       "    <tr>\n",
       "      <th>1</th>\n",
       "      <td>932683089</td>\n",
       "      <td>2</td>\n",
       "    </tr>\n",
       "    <tr>\n",
       "      <th>2</th>\n",
       "      <td>947802447</td>\n",
       "      <td>3</td>\n",
       "    </tr>\n",
       "    <tr>\n",
       "      <th>3</th>\n",
       "      <td>959523541</td>\n",
       "      <td>4</td>\n",
       "    </tr>\n",
       "    <tr>\n",
       "      <th>4</th>\n",
       "      <td>969103313</td>\n",
       "      <td>5</td>\n",
       "    </tr>\n",
       "  </tbody>\n",
       "</table>\n",
       "</div>"
      ],
      "text/plain": [
       "      reg_ts  uid\n",
       "0  911382223    1\n",
       "1  932683089    2\n",
       "2  947802447    3\n",
       "3  959523541    4\n",
       "4  969103313    5"
      ]
     },
     "execution_count": 51,
     "metadata": {},
     "output_type": "execute_result"
    }
   ],
   "source": [
    "reg_data.head()\n"
   ]
  },
  {
   "cell_type": "code",
   "execution_count": 52,
   "metadata": {},
   "outputs": [
    {
     "data": {
      "text/plain": [
       "reg_ts    int64\n",
       "uid       int64\n",
       "dtype: object"
      ]
     },
     "execution_count": 52,
     "metadata": {},
     "output_type": "execute_result"
    }
   ],
   "source": [
    "reg_data.dtypes"
   ]
  },
  {
   "cell_type": "code",
   "execution_count": 48,
   "metadata": {},
   "outputs": [
    {
     "data": {
      "text/plain": [
       "reg_ts    0\n",
       "uid       0\n",
       "dtype: int64"
      ]
     },
     "execution_count": 48,
     "metadata": {},
     "output_type": "execute_result"
    }
   ],
   "source": [
    "reg_data.isnull().sum()\n"
   ]
  },
  {
   "cell_type": "code",
   "execution_count": 49,
   "metadata": {},
   "outputs": [
    {
     "data": {
      "text/plain": [
       "0"
      ]
     },
     "execution_count": 49,
     "metadata": {},
     "output_type": "execute_result"
    }
   ],
   "source": [
    "reg_data.duplicated().sum()"
   ]
  },
  {
   "cell_type": "code",
   "execution_count": 53,
   "metadata": {},
   "outputs": [
    {
     "data": {
      "text/html": [
       "<div>\n",
       "<style scoped>\n",
       "    .dataframe tbody tr th:only-of-type {\n",
       "        vertical-align: middle;\n",
       "    }\n",
       "\n",
       "    .dataframe tbody tr th {\n",
       "        vertical-align: top;\n",
       "    }\n",
       "\n",
       "    .dataframe thead th {\n",
       "        text-align: right;\n",
       "    }\n",
       "</style>\n",
       "<table border=\"1\" class=\"dataframe\">\n",
       "  <thead>\n",
       "    <tr style=\"text-align: right;\">\n",
       "      <th></th>\n",
       "      <th>auth_ts</th>\n",
       "      <th>uid</th>\n",
       "    </tr>\n",
       "  </thead>\n",
       "  <tbody>\n",
       "    <tr>\n",
       "      <th>0</th>\n",
       "      <td>911382223</td>\n",
       "      <td>1</td>\n",
       "    </tr>\n",
       "    <tr>\n",
       "      <th>1</th>\n",
       "      <td>932683089</td>\n",
       "      <td>2</td>\n",
       "    </tr>\n",
       "    <tr>\n",
       "      <th>2</th>\n",
       "      <td>932921206</td>\n",
       "      <td>2</td>\n",
       "    </tr>\n",
       "    <tr>\n",
       "      <th>3</th>\n",
       "      <td>933393015</td>\n",
       "      <td>2</td>\n",
       "    </tr>\n",
       "    <tr>\n",
       "      <th>4</th>\n",
       "      <td>933875379</td>\n",
       "      <td>2</td>\n",
       "    </tr>\n",
       "  </tbody>\n",
       "</table>\n",
       "</div>"
      ],
      "text/plain": [
       "     auth_ts  uid\n",
       "0  911382223    1\n",
       "1  932683089    2\n",
       "2  932921206    2\n",
       "3  933393015    2\n",
       "4  933875379    2"
      ]
     },
     "execution_count": 53,
     "metadata": {},
     "output_type": "execute_result"
    }
   ],
   "source": [
    "auth_data.head()"
   ]
  },
  {
   "cell_type": "code",
   "execution_count": 54,
   "metadata": {},
   "outputs": [
    {
     "data": {
      "text/plain": [
       "auth_ts    int64\n",
       "uid        int64\n",
       "dtype: object"
      ]
     },
     "execution_count": 54,
     "metadata": {},
     "output_type": "execute_result"
    }
   ],
   "source": [
    "auth_data.dtypes"
   ]
  },
  {
   "cell_type": "code",
   "execution_count": 58,
   "metadata": {},
   "outputs": [
    {
     "data": {
      "text/plain": [
       "auth_ts    0\n",
       "uid        0\n",
       "dtype: int64"
      ]
     },
     "execution_count": 58,
     "metadata": {},
     "output_type": "execute_result"
    }
   ],
   "source": [
    "auth_data.isnull().sum()\n"
   ]
  },
  {
   "cell_type": "code",
   "execution_count": 61,
   "metadata": {},
   "outputs": [
    {
     "data": {
      "text/plain": [
       "0"
      ]
     },
     "execution_count": 61,
     "metadata": {},
     "output_type": "execute_result"
    }
   ],
   "source": [
    "auth_data.duplicated().sum()"
   ]
  },
  {
   "cell_type": "code",
   "execution_count": null,
   "metadata": {},
   "outputs": [],
   "source": []
  },
  {
   "cell_type": "code",
   "execution_count": 40,
   "metadata": {},
   "outputs": [],
   "source": [
    "\n",
    "def cohort_analysis(reg_data, auth_data, \n",
    "                   start_date=None, end_date=None\n",
    "                   ):\n",
    "  \n",
    "    reg_data=pd.read_csv(file_path,sep=';')\n",
    "    auth_data=pd.read_csv(file_path2,sep=';')\n",
    "    \n",
    "    reg_data[\"reg_ts\"] = pd.to_datetime(reg_data[\"reg_ts\"], origin='unix', unit=\"s\")\n",
    "    auth_data[\"auth_ts\"] = pd.to_datetime(auth_data[\"auth_ts\"], origin='unix', unit=\"s\")\n",
    "    \n",
    "    \n",
    "    df_merged = pd.merge(reg_data, auth_data, how='inner', on='uid')\n",
    "    \n",
    "   \n",
    "    if start_date:\n",
    "        df_merged = df_merged[df_merged['reg_ts'] >= start_date]\n",
    "    if end_date:\n",
    "        df_merged = df_merged[df_merged['reg_ts'] <= end_date]\n",
    "    \n",
    "   \n",
    "    df_merged['cohort'] = df_merged['reg_ts'].dt.to_period('D')\n",
    "    df_merged['auth_period'] = df_merged['auth_ts'].dt.to_period('D')\n",
    "    \n",
    "   \n",
    "    df_merged['period'] = (df_merged['auth_period'] - df_merged['cohort']).apply(attrgetter('n'))\n",
    "    \n",
    "   \n",
    "    cohort_data = df_merged.groupby(['cohort', 'period']).agg(\n",
    "        n_users=('uid', 'nunique')\n",
    "    ).reset_index()\n",
    "    \n",
    "   \n",
    "    cohort_pivot = cohort_data.pivot_table(\n",
    "        index='cohort',\n",
    "        columns='period',\n",
    "        values='n_users',\n",
    "        aggfunc='sum'\n",
    "    ).fillna(0)\n",
    "    \n",
    "\n",
    "    cohort_size = cohort_pivot.iloc[:, 0]\n",
    "    retention_matrix = cohort_pivot.divide(cohort_size, axis=0) * 100\n",
    "    if 0 in retention_matrix.columns:\n",
    "        retention_matrix = retention_matrix.drop(0, axis=1)\n",
    "    \n",
    "   \n",
    "    return retention_matrix"
   ]
  },
  {
   "cell_type": "code",
   "execution_count": 41,
   "metadata": {},
   "outputs": [],
   "source": [
    "retention=cohort_analysis(reg_data, auth_data, start_date= '2020-09-07', end_date='2020-09-22')"
   ]
  },
  {
   "cell_type": "code",
   "execution_count": 42,
   "metadata": {},
   "outputs": [
    {
     "data": {
      "text/html": [
       "<div>\n",
       "<style scoped>\n",
       "    .dataframe tbody tr th:only-of-type {\n",
       "        vertical-align: middle;\n",
       "    }\n",
       "\n",
       "    .dataframe tbody tr th {\n",
       "        vertical-align: top;\n",
       "    }\n",
       "\n",
       "    .dataframe thead th {\n",
       "        text-align: right;\n",
       "    }\n",
       "</style>\n",
       "<table border=\"1\" class=\"dataframe\">\n",
       "  <thead>\n",
       "    <tr style=\"text-align: right;\">\n",
       "      <th>period</th>\n",
       "      <th>1</th>\n",
       "      <th>2</th>\n",
       "      <th>3</th>\n",
       "      <th>4</th>\n",
       "      <th>5</th>\n",
       "      <th>6</th>\n",
       "      <th>7</th>\n",
       "      <th>8</th>\n",
       "      <th>9</th>\n",
       "      <th>10</th>\n",
       "      <th>11</th>\n",
       "      <th>12</th>\n",
       "      <th>13</th>\n",
       "      <th>14</th>\n",
       "      <th>15</th>\n",
       "      <th>16</th>\n",
       "    </tr>\n",
       "    <tr>\n",
       "      <th>cohort</th>\n",
       "      <th></th>\n",
       "      <th></th>\n",
       "      <th></th>\n",
       "      <th></th>\n",
       "      <th></th>\n",
       "      <th></th>\n",
       "      <th></th>\n",
       "      <th></th>\n",
       "      <th></th>\n",
       "      <th></th>\n",
       "      <th></th>\n",
       "      <th></th>\n",
       "      <th></th>\n",
       "      <th></th>\n",
       "      <th></th>\n",
       "      <th></th>\n",
       "    </tr>\n",
       "  </thead>\n",
       "  <tbody>\n",
       "    <tr>\n",
       "      <th>2020-09-07</th>\n",
       "      <td>2.935665</td>\n",
       "      <td>4.247345</td>\n",
       "      <td>5.371643</td>\n",
       "      <td>5.059338</td>\n",
       "      <td>6.371018</td>\n",
       "      <td>7.307933</td>\n",
       "      <td>5.246721</td>\n",
       "      <td>4.122423</td>\n",
       "      <td>5.621487</td>\n",
       "      <td>5.996252</td>\n",
       "      <td>5.683948</td>\n",
       "      <td>4.559650</td>\n",
       "      <td>5.059338</td>\n",
       "      <td>4.247345</td>\n",
       "      <td>5.059338</td>\n",
       "      <td>3.372892</td>\n",
       "    </tr>\n",
       "    <tr>\n",
       "      <th>2020-09-08</th>\n",
       "      <td>1.745636</td>\n",
       "      <td>3.927681</td>\n",
       "      <td>3.927681</td>\n",
       "      <td>4.862843</td>\n",
       "      <td>7.605985</td>\n",
       "      <td>7.543641</td>\n",
       "      <td>6.608479</td>\n",
       "      <td>5.174564</td>\n",
       "      <td>5.174564</td>\n",
       "      <td>6.546135</td>\n",
       "      <td>5.361596</td>\n",
       "      <td>5.922693</td>\n",
       "      <td>5.174564</td>\n",
       "      <td>4.738155</td>\n",
       "      <td>3.054863</td>\n",
       "      <td>0.000000</td>\n",
       "    </tr>\n",
       "    <tr>\n",
       "      <th>2020-09-09</th>\n",
       "      <td>1.742377</td>\n",
       "      <td>3.235843</td>\n",
       "      <td>4.667082</td>\n",
       "      <td>5.724953</td>\n",
       "      <td>6.658370</td>\n",
       "      <td>5.724953</td>\n",
       "      <td>5.911637</td>\n",
       "      <td>4.355943</td>\n",
       "      <td>5.040448</td>\n",
       "      <td>3.733665</td>\n",
       "      <td>5.040448</td>\n",
       "      <td>4.791537</td>\n",
       "      <td>4.853765</td>\n",
       "      <td>2.426882</td>\n",
       "      <td>0.000000</td>\n",
       "      <td>0.000000</td>\n",
       "    </tr>\n",
       "    <tr>\n",
       "      <th>2020-09-10</th>\n",
       "      <td>2.050963</td>\n",
       "      <td>4.288378</td>\n",
       "      <td>4.785581</td>\n",
       "      <td>4.226227</td>\n",
       "      <td>6.774394</td>\n",
       "      <td>6.277191</td>\n",
       "      <td>7.085146</td>\n",
       "      <td>4.847732</td>\n",
       "      <td>4.536979</td>\n",
       "      <td>5.655687</td>\n",
       "      <td>4.723431</td>\n",
       "      <td>5.220634</td>\n",
       "      <td>3.604723</td>\n",
       "      <td>0.000000</td>\n",
       "      <td>0.000000</td>\n",
       "      <td>0.000000</td>\n",
       "    </tr>\n",
       "    <tr>\n",
       "      <th>2020-09-11</th>\n",
       "      <td>1.302730</td>\n",
       "      <td>4.032258</td>\n",
       "      <td>4.528536</td>\n",
       "      <td>5.645161</td>\n",
       "      <td>5.707196</td>\n",
       "      <td>6.699752</td>\n",
       "      <td>6.327543</td>\n",
       "      <td>4.404467</td>\n",
       "      <td>4.652605</td>\n",
       "      <td>5.397022</td>\n",
       "      <td>5.334988</td>\n",
       "      <td>3.287841</td>\n",
       "      <td>0.000000</td>\n",
       "      <td>0.000000</td>\n",
       "      <td>0.000000</td>\n",
       "      <td>0.000000</td>\n",
       "    </tr>\n",
       "    <tr>\n",
       "      <th>2020-09-12</th>\n",
       "      <td>1.920694</td>\n",
       "      <td>3.841388</td>\n",
       "      <td>4.708798</td>\n",
       "      <td>4.646840</td>\n",
       "      <td>6.071871</td>\n",
       "      <td>6.567534</td>\n",
       "      <td>5.762082</td>\n",
       "      <td>5.266419</td>\n",
       "      <td>5.142503</td>\n",
       "      <td>5.700124</td>\n",
       "      <td>2.540273</td>\n",
       "      <td>0.000000</td>\n",
       "      <td>0.000000</td>\n",
       "      <td>0.000000</td>\n",
       "      <td>0.000000</td>\n",
       "      <td>0.000000</td>\n",
       "    </tr>\n",
       "    <tr>\n",
       "      <th>2020-09-13</th>\n",
       "      <td>1.977750</td>\n",
       "      <td>4.079110</td>\n",
       "      <td>4.264524</td>\n",
       "      <td>5.129790</td>\n",
       "      <td>6.551298</td>\n",
       "      <td>6.489493</td>\n",
       "      <td>4.944376</td>\n",
       "      <td>4.697157</td>\n",
       "      <td>4.944376</td>\n",
       "      <td>3.584672</td>\n",
       "      <td>0.000000</td>\n",
       "      <td>0.000000</td>\n",
       "      <td>0.000000</td>\n",
       "      <td>0.000000</td>\n",
       "      <td>0.000000</td>\n",
       "      <td>0.000000</td>\n",
       "    </tr>\n",
       "    <tr>\n",
       "      <th>2020-09-14</th>\n",
       "      <td>2.223595</td>\n",
       "      <td>3.829524</td>\n",
       "      <td>4.508956</td>\n",
       "      <td>5.311921</td>\n",
       "      <td>6.485485</td>\n",
       "      <td>6.979617</td>\n",
       "      <td>6.300185</td>\n",
       "      <td>4.447190</td>\n",
       "      <td>2.903027</td>\n",
       "      <td>0.000000</td>\n",
       "      <td>0.000000</td>\n",
       "      <td>0.000000</td>\n",
       "      <td>0.000000</td>\n",
       "      <td>0.000000</td>\n",
       "      <td>0.000000</td>\n",
       "      <td>0.000000</td>\n",
       "    </tr>\n",
       "    <tr>\n",
       "      <th>2020-09-15</th>\n",
       "      <td>2.218115</td>\n",
       "      <td>4.066543</td>\n",
       "      <td>4.559458</td>\n",
       "      <td>6.038201</td>\n",
       "      <td>5.606901</td>\n",
       "      <td>6.900801</td>\n",
       "      <td>5.668515</td>\n",
       "      <td>2.464572</td>\n",
       "      <td>0.000000</td>\n",
       "      <td>0.000000</td>\n",
       "      <td>0.000000</td>\n",
       "      <td>0.000000</td>\n",
       "      <td>0.000000</td>\n",
       "      <td>0.000000</td>\n",
       "      <td>0.000000</td>\n",
       "      <td>0.000000</td>\n",
       "    </tr>\n",
       "    <tr>\n",
       "      <th>2020-09-16</th>\n",
       "      <td>1.907692</td>\n",
       "      <td>4.246154</td>\n",
       "      <td>4.615385</td>\n",
       "      <td>4.676923</td>\n",
       "      <td>6.769231</td>\n",
       "      <td>6.953846</td>\n",
       "      <td>3.384615</td>\n",
       "      <td>0.000000</td>\n",
       "      <td>0.000000</td>\n",
       "      <td>0.000000</td>\n",
       "      <td>0.000000</td>\n",
       "      <td>0.000000</td>\n",
       "      <td>0.000000</td>\n",
       "      <td>0.000000</td>\n",
       "      <td>0.000000</td>\n",
       "      <td>0.000000</td>\n",
       "    </tr>\n",
       "    <tr>\n",
       "      <th>2020-09-17</th>\n",
       "      <td>1.658477</td>\n",
       "      <td>4.299754</td>\n",
       "      <td>4.545455</td>\n",
       "      <td>5.466830</td>\n",
       "      <td>6.265356</td>\n",
       "      <td>4.238329</td>\n",
       "      <td>0.000000</td>\n",
       "      <td>0.000000</td>\n",
       "      <td>0.000000</td>\n",
       "      <td>0.000000</td>\n",
       "      <td>0.000000</td>\n",
       "      <td>0.000000</td>\n",
       "      <td>0.000000</td>\n",
       "      <td>0.000000</td>\n",
       "      <td>0.000000</td>\n",
       "      <td>0.000000</td>\n",
       "    </tr>\n",
       "    <tr>\n",
       "      <th>2020-09-18</th>\n",
       "      <td>1.901840</td>\n",
       "      <td>4.539877</td>\n",
       "      <td>4.233129</td>\n",
       "      <td>5.214724</td>\n",
       "      <td>3.742331</td>\n",
       "      <td>0.000000</td>\n",
       "      <td>0.000000</td>\n",
       "      <td>0.000000</td>\n",
       "      <td>0.000000</td>\n",
       "      <td>0.000000</td>\n",
       "      <td>0.000000</td>\n",
       "      <td>0.000000</td>\n",
       "      <td>0.000000</td>\n",
       "      <td>0.000000</td>\n",
       "      <td>0.000000</td>\n",
       "      <td>0.000000</td>\n",
       "    </tr>\n",
       "    <tr>\n",
       "      <th>2020-09-19</th>\n",
       "      <td>1.835985</td>\n",
       "      <td>3.549572</td>\n",
       "      <td>4.712362</td>\n",
       "      <td>3.488372</td>\n",
       "      <td>0.000000</td>\n",
       "      <td>0.000000</td>\n",
       "      <td>0.000000</td>\n",
       "      <td>0.000000</td>\n",
       "      <td>0.000000</td>\n",
       "      <td>0.000000</td>\n",
       "      <td>0.000000</td>\n",
       "      <td>0.000000</td>\n",
       "      <td>0.000000</td>\n",
       "      <td>0.000000</td>\n",
       "      <td>0.000000</td>\n",
       "      <td>0.000000</td>\n",
       "    </tr>\n",
       "    <tr>\n",
       "      <th>2020-09-20</th>\n",
       "      <td>2.444988</td>\n",
       "      <td>4.339853</td>\n",
       "      <td>2.383863</td>\n",
       "      <td>0.000000</td>\n",
       "      <td>0.000000</td>\n",
       "      <td>0.000000</td>\n",
       "      <td>0.000000</td>\n",
       "      <td>0.000000</td>\n",
       "      <td>0.000000</td>\n",
       "      <td>0.000000</td>\n",
       "      <td>0.000000</td>\n",
       "      <td>0.000000</td>\n",
       "      <td>0.000000</td>\n",
       "      <td>0.000000</td>\n",
       "      <td>0.000000</td>\n",
       "      <td>0.000000</td>\n",
       "    </tr>\n",
       "    <tr>\n",
       "      <th>2020-09-21</th>\n",
       "      <td>1.892552</td>\n",
       "      <td>2.991453</td>\n",
       "      <td>0.000000</td>\n",
       "      <td>0.000000</td>\n",
       "      <td>0.000000</td>\n",
       "      <td>0.000000</td>\n",
       "      <td>0.000000</td>\n",
       "      <td>0.000000</td>\n",
       "      <td>0.000000</td>\n",
       "      <td>0.000000</td>\n",
       "      <td>0.000000</td>\n",
       "      <td>0.000000</td>\n",
       "      <td>0.000000</td>\n",
       "      <td>0.000000</td>\n",
       "      <td>0.000000</td>\n",
       "      <td>0.000000</td>\n",
       "    </tr>\n",
       "  </tbody>\n",
       "</table>\n",
       "</div>"
      ],
      "text/plain": [
       "period            1         2         3         4         5         6   \\\n",
       "cohort                                                                   \n",
       "2020-09-07  2.935665  4.247345  5.371643  5.059338  6.371018  7.307933   \n",
       "2020-09-08  1.745636  3.927681  3.927681  4.862843  7.605985  7.543641   \n",
       "2020-09-09  1.742377  3.235843  4.667082  5.724953  6.658370  5.724953   \n",
       "2020-09-10  2.050963  4.288378  4.785581  4.226227  6.774394  6.277191   \n",
       "2020-09-11  1.302730  4.032258  4.528536  5.645161  5.707196  6.699752   \n",
       "2020-09-12  1.920694  3.841388  4.708798  4.646840  6.071871  6.567534   \n",
       "2020-09-13  1.977750  4.079110  4.264524  5.129790  6.551298  6.489493   \n",
       "2020-09-14  2.223595  3.829524  4.508956  5.311921  6.485485  6.979617   \n",
       "2020-09-15  2.218115  4.066543  4.559458  6.038201  5.606901  6.900801   \n",
       "2020-09-16  1.907692  4.246154  4.615385  4.676923  6.769231  6.953846   \n",
       "2020-09-17  1.658477  4.299754  4.545455  5.466830  6.265356  4.238329   \n",
       "2020-09-18  1.901840  4.539877  4.233129  5.214724  3.742331  0.000000   \n",
       "2020-09-19  1.835985  3.549572  4.712362  3.488372  0.000000  0.000000   \n",
       "2020-09-20  2.444988  4.339853  2.383863  0.000000  0.000000  0.000000   \n",
       "2020-09-21  1.892552  2.991453  0.000000  0.000000  0.000000  0.000000   \n",
       "\n",
       "period            7         8         9         10        11        12  \\\n",
       "cohort                                                                   \n",
       "2020-09-07  5.246721  4.122423  5.621487  5.996252  5.683948  4.559650   \n",
       "2020-09-08  6.608479  5.174564  5.174564  6.546135  5.361596  5.922693   \n",
       "2020-09-09  5.911637  4.355943  5.040448  3.733665  5.040448  4.791537   \n",
       "2020-09-10  7.085146  4.847732  4.536979  5.655687  4.723431  5.220634   \n",
       "2020-09-11  6.327543  4.404467  4.652605  5.397022  5.334988  3.287841   \n",
       "2020-09-12  5.762082  5.266419  5.142503  5.700124  2.540273  0.000000   \n",
       "2020-09-13  4.944376  4.697157  4.944376  3.584672  0.000000  0.000000   \n",
       "2020-09-14  6.300185  4.447190  2.903027  0.000000  0.000000  0.000000   \n",
       "2020-09-15  5.668515  2.464572  0.000000  0.000000  0.000000  0.000000   \n",
       "2020-09-16  3.384615  0.000000  0.000000  0.000000  0.000000  0.000000   \n",
       "2020-09-17  0.000000  0.000000  0.000000  0.000000  0.000000  0.000000   \n",
       "2020-09-18  0.000000  0.000000  0.000000  0.000000  0.000000  0.000000   \n",
       "2020-09-19  0.000000  0.000000  0.000000  0.000000  0.000000  0.000000   \n",
       "2020-09-20  0.000000  0.000000  0.000000  0.000000  0.000000  0.000000   \n",
       "2020-09-21  0.000000  0.000000  0.000000  0.000000  0.000000  0.000000   \n",
       "\n",
       "period            13        14        15        16  \n",
       "cohort                                              \n",
       "2020-09-07  5.059338  4.247345  5.059338  3.372892  \n",
       "2020-09-08  5.174564  4.738155  3.054863  0.000000  \n",
       "2020-09-09  4.853765  2.426882  0.000000  0.000000  \n",
       "2020-09-10  3.604723  0.000000  0.000000  0.000000  \n",
       "2020-09-11  0.000000  0.000000  0.000000  0.000000  \n",
       "2020-09-12  0.000000  0.000000  0.000000  0.000000  \n",
       "2020-09-13  0.000000  0.000000  0.000000  0.000000  \n",
       "2020-09-14  0.000000  0.000000  0.000000  0.000000  \n",
       "2020-09-15  0.000000  0.000000  0.000000  0.000000  \n",
       "2020-09-16  0.000000  0.000000  0.000000  0.000000  \n",
       "2020-09-17  0.000000  0.000000  0.000000  0.000000  \n",
       "2020-09-18  0.000000  0.000000  0.000000  0.000000  \n",
       "2020-09-19  0.000000  0.000000  0.000000  0.000000  \n",
       "2020-09-20  0.000000  0.000000  0.000000  0.000000  \n",
       "2020-09-21  0.000000  0.000000  0.000000  0.000000  "
      ]
     },
     "execution_count": 42,
     "metadata": {},
     "output_type": "execute_result"
    }
   ],
   "source": [
    "retention"
   ]
  },
  {
   "cell_type": "code",
   "execution_count": null,
   "metadata": {},
   "outputs": [],
   "source": [
    "#Задание № 2"
   ]
  },
  {
   "cell_type": "code",
   "execution_count": 65,
   "metadata": {},
   "outputs": [],
   "source": [
    "import requests\n",
    "from urllib.parse import urlencode\n",
    "from scipy.stats import ttest_ind, chi2_contingency\n",
    "\n",
    "base_url = 'https://cloud-api.yandex.net/v1/disk/public/resources/download?'\n",
    "public_key = 'https://disk.yandex.ru/d/SOkIsD5A8xlI7Q'  \n",
    "\n",
    "\n",
    "final_url = base_url + urlencode(dict(public_key=public_key))\n",
    "response = requests.get(final_url)\n",
    "download_url = response.json()['href']\n",
    "\n",
    "\n",
    "download_response = requests.get(download_url)\n",
    "with open('Проект_1_Задание_2.csv', 'wb') as f:   \n",
    "    f.write(download_response.content)"
   ]
  },
  {
   "cell_type": "code",
   "execution_count": 66,
   "metadata": {},
   "outputs": [],
   "source": [
    "df=pd.read_csv('Проект_1_Задание_2.csv',sep=';')"
   ]
  },
  {
   "cell_type": "code",
   "execution_count": 67,
   "metadata": {},
   "outputs": [],
   "source": [
    "control_group=df.query('testgroup == \"a\"')"
   ]
  },
  {
   "cell_type": "code",
   "execution_count": 68,
   "metadata": {},
   "outputs": [],
   "source": [
    "test_group=df.query('testgroup == \"b\"')"
   ]
  },
  {
   "cell_type": "code",
   "execution_count": 69,
   "metadata": {},
   "outputs": [
    {
     "name": "stdout",
     "output_type": "stream",
     "text": [
      "ARPU тестовой группы: 26.75\n",
      "ARPU контрольной группы: 25.41\n",
      "Разница в ARPU : 5.13 %\n"
     ]
    }
   ],
   "source": [
    "ARPU_test = test_group['revenue'].sum() / test_group['user_id'].nunique()\n",
    "ARPU_control = control_group['revenue'].sum() / control_group['user_id'].nunique()\n",
    "ARPU_dif = (ARPU_test - ARPU_control) / ((ARPU_test + ARPU_control)/2)  * 100\n",
    "print(f\"ARPU тестовой группы: {ARPU_test:.2f}\")\n",
    "print(f\"ARPU контрольной группы: {ARPU_control:.2f}\")\n",
    "print(f\"Разница в ARPU : {ARPU_dif:.2f} %\")"
   ]
  },
  {
   "cell_type": "markdown",
   "metadata": {},
   "source": [
    "ARPU тестовой группы больше на 5.13 % ."
   ]
  },
  {
   "cell_type": "code",
   "execution_count": 70,
   "metadata": {},
   "outputs": [],
   "source": [
    "n_control = len(control_group)\n",
    "n_test = len(test_group)\n",
    "payers_control = (control_group['revenue'] > 0).sum()\n",
    "payers_test = (test_group['revenue'] > 0).sum()\n",
    "\n"
   ]
  },
  {
   "cell_type": "code",
   "execution_count": 71,
   "metadata": {},
   "outputs": [],
   "source": [
    "cr_control = payers_control / n_control * 100\n",
    "cr_test = payers_test / n_test * 100"
   ]
  },
  {
   "cell_type": "code",
   "execution_count": 72,
   "metadata": {},
   "outputs": [
    {
     "name": "stdout",
     "output_type": "stream",
     "text": [
      "Conversion Rate контрольной группы: 0.95 %\n",
      "Conversion Rate тестовой группы: 0.89 %\n"
     ]
    }
   ],
   "source": [
    "print(f\"Conversion Rate контрольной группы: {cr_control:.2f} %\")\n",
    "print(f\"Conversion Rate тестовой группы: {cr_test:.2f} %\")"
   ]
  },
  {
   "cell_type": "markdown",
   "metadata": {},
   "source": [
    "Конверсия в платящих пользователей  контрольной группы больше чем конверсия в платящих пользователей тестовой группы.\n"
   ]
  },
  {
   "cell_type": "code",
   "execution_count": 73,
   "metadata": {},
   "outputs": [],
   "source": [
    "ARPPU_control=control_group['revenue'].sum()/payers_control\n",
    "ARPPU_test=test_group['revenue'].sum()/payers_test"
   ]
  },
  {
   "cell_type": "code",
   "execution_count": 74,
   "metadata": {},
   "outputs": [
    {
     "name": "stdout",
     "output_type": "stream",
     "text": [
      "ARPPU тестовой группы: 3003.66\n",
      "ARPPU контрольной группы: 2664.00\n"
     ]
    }
   ],
   "source": [
    "print(f\"ARPPU тестовой группы: {ARPPU_test:.2f}\")\n",
    "print(f\"ARPPU контрольной группы: {ARPPU_control:.2f}\")"
   ]
  },
  {
   "cell_type": "markdown",
   "metadata": {},
   "source": [
    "В тестовой группе платящие пользователи тратят больше чем в контрольной группе."
   ]
  },
  {
   "cell_type": "markdown",
   "metadata": {},
   "source": [
    "Обоснование использования статистических тестов:\n",
    "при достаточно больших выборках можно полагаться на центральную предельную теорему, которая гарантирует, что распределение средних будет стремиться к нормальному. Это позволяет использовать t‑тест для сравнения средних значений, даже если исходные данные не распределены нормально."
   ]
  },
  {
   "cell_type": "code",
   "execution_count": 85,
   "metadata": {},
   "outputs": [],
   "source": [
    "t_stat_arpu, p_val_arpu = ttest_ind(control_group['revenue'], test_group['revenue'], equal_var=False)"
   ]
  },
  {
   "cell_type": "code",
   "execution_count": 86,
   "metadata": {},
   "outputs": [
    {
     "name": "stdout",
     "output_type": "stream",
     "text": [
      "t-статистика ARPU: -0.6234876562792212\n",
      "p-value ARPU: 0.5329647014130866\n"
     ]
    }
   ],
   "source": [
    "print(f\"t-статистика ARPU: {t_stat_arpu}\")\n",
    "print(f\"p-value ARPU: {p_val_arpu}\")"
   ]
  },
  {
   "cell_type": "code",
   "execution_count": 98,
   "metadata": {},
   "outputs": [],
   "source": [
    "revenue_control_paying = control_group[control_group[\"revenue\"] > 0][\"revenue\"]\n",
    "revenue_test_paying = test_group[test_group[\"revenue\"] > 0][\"revenue\"]\n",
    "t_stat_arppu, p_val_arppu = ttest_ind(revenue_control_paying, revenue_test_paying, equal_var=False)"
   ]
  },
  {
   "cell_type": "code",
   "execution_count": 99,
   "metadata": {},
   "outputs": [
    {
     "name": "stdout",
     "output_type": "stream",
     "text": [
      "t-статистика ARPPU: -1.6446302664300838\n",
      "p-value ARPPU: 0.10020780398916015\n"
     ]
    }
   ],
   "source": [
    "print(f\"t-статистика ARPPU: {t_stat_arppu}\")\n",
    "print(f\"p-value ARPPU: {p_val_arppu}\")"
   ]
  },
  {
   "cell_type": "code",
   "execution_count": 92,
   "metadata": {},
   "outputs": [
    {
     "name": "stdout",
     "output_type": "stream",
     "text": [
      "t-статистика ARPPU: 2.1079349291072385\n",
      "p-value ARPPU: 0.03503723231141361\n"
     ]
    }
   ],
   "source": [
    "print(f\"t-статистика ARPPU: {t_stat_arppu}\")\n",
    "print(f\"p-value ARPPU: {p_val_arppu}\")"
   ]
  },
  {
   "cell_type": "markdown",
   "metadata": {},
   "source": [
    "p-value ARPU > 0.05 , что выше порогового значения. Разница статистически незначима.\n",
    "\n",
    "для ARPPU тоже нет статистически значимых различий."
   ]
  },
  {
   "cell_type": "markdown",
   "metadata": {},
   "source": [
    "         Платящие    Неплатящие\n",
    "Контроль          1928         200175\n",
    "Тест              1805         200862"
   ]
  },
  {
   "cell_type": "code",
   "execution_count": 143,
   "metadata": {},
   "outputs": [],
   "source": [
    "contingency_table = [\n",
    "    [payers_control, n_control - payers_control],\n",
    "    [payers_test, n_test - payers_test]\n",
    "]\n",
    "chi2_stat, chi2_p_val,_,_= chi2_contingency(contingency_table)"
   ]
  },
  {
   "cell_type": "code",
   "execution_count": 144,
   "metadata": {},
   "outputs": [
    {
     "data": {
      "text/plain": [
       "[[1928, 200175], [1805, 200862]]"
      ]
     },
     "execution_count": 144,
     "metadata": {},
     "output_type": "execute_result"
    }
   ],
   "source": [
    "contingency_table"
   ]
  },
  {
   "cell_type": "code",
   "execution_count": 146,
   "metadata": {},
   "outputs": [
    {
     "name": "stdout",
     "output_type": "stream",
     "text": [
      "Статистика хи-квадрат CR: 4.374729521260405\n",
      "p-value хи-квадрат CR: 0.03647561892312613\n"
     ]
    }
   ],
   "source": [
    "print(f\"Статистика хи-квадрат CR: {chi2_stat}\")\n",
    "print(f\"p-value хи-квадрат CR: {chi2_p_val}\")"
   ]
  },
  {
   "cell_type": "markdown",
   "metadata": {},
   "source": [
    "p-value хи-квадрат CR меньше 0.05  . Разница в конверсии значима."
   ]
  },
  {
   "cell_type": "markdown",
   "metadata": {},
   "source": [
    "Результат: Статистически значимого увеличения ARPU или ARPPU в тестовой группе зафиксировано не было, тогда как конверсия в контрольной группе оказалась статистически значимо выше. Это говорит о том, что тестируемый набор предложений нельзя считать однозначно успешным, и его не рекомендуется внедрять для всей аудитории."
   ]
  },
  {
   "cell_type": "code",
   "execution_count": null,
   "metadata": {},
   "outputs": [],
   "source": [
    "# 3 Задание "
   ]
  },
  {
   "cell_type": "markdown",
   "metadata": {},
   "source": [
    "Базовое событие:\n",
    "\n",
    "1)DAU (Daily Active Users) и MAU (Monthly Active Users)\n",
    "\n",
    "2)Event Participation Rate – % активных игроков, принявших участие в событии\n",
    "\n",
    "3)First-Time Entry – сколько игроков запустили событие хотя бы раз\n",
    "\n",
    "4)Event Revenue – выручка, полученная в рамках события\n",
    "\n",
    "5)Conversion Rate – % игроков, сделавших покупку ради прохождения события\n",
    "\n",
    "6)ARPU / ARPPU по событию\n",
    "\n",
    "7)Event Retention  – удержание участников события\n",
    "\n",
    "Усложнение механики влияет на поведение и восприятие события игроками. Это требует расширения и переоценки набора метрик:\n",
    "\n",
    "1)Retry Rate per Level – сколько попыток в среднем требуется на уровень\n",
    "\n",
    "2)Failure Rate – % неудачных попыток на каждом уровне\n",
    "\n",
    "3)Rollback Trigger Rate – % попыток, приведших к откату\n",
    "\n",
    "4)Average Rollback Depth – на сколько уровней в среднем откатывается игрок\n",
    "\n",
    "5)Frustration Proxy Metrics – резкий рост выходов из игры после отката, паузы, уменьшение времени сессий\n",
    "\n",
    "6)Drop-off после отката – % игроков, завершивших участие сразу после отката\n",
    "\n",
    "7)Complaint / Support Rate – обращения в поддержку или негатив в отзывах\n",
    "\n",
    "Если игроки уходят из события сразу после откатов или не возвращаются на следующий день — это тревожный сигнал.\n"
   ]
  }
 ],
 "metadata": {
  "kernelspec": {
   "display_name": "Python 3",
   "language": "python",
   "name": "python3"
  },
  "language_info": {
   "codemirror_mode": {
    "name": "ipython",
    "version": 3
   },
   "file_extension": ".py",
   "mimetype": "text/x-python",
   "name": "python",
   "nbconvert_exporter": "python",
   "pygments_lexer": "ipython3",
   "version": "3.7.3"
  }
 },
 "nbformat": 4,
 "nbformat_minor": 4
}
